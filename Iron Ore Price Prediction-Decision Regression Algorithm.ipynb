{
 "cells": [
  {
   "cell_type": "code",
   "execution_count": 1,
   "metadata": {},
   "outputs": [],
   "source": [
    "#Iron Ore Price Prediction model with Decision Regression Algorithm"
   ]
  },
  {
   "cell_type": "code",
   "execution_count": 2,
   "metadata": {},
   "outputs": [],
   "source": [
    "import numpy as np\n",
    "import pandas as pd\n",
    "import matplotlib.pyplot as plt\n",
    "import seaborn as sns\n",
    "%matplotlib inline"
   ]
  },
  {
   "cell_type": "code",
   "execution_count": 3,
   "metadata": {},
   "outputs": [
    {
     "data": {
      "text/plain": [
       "'C:\\\\Users\\\\LENOVO\\\\python\\\\Python-Data-Science-and-Machine-Learning-Bootcamp\\\\Python-Data-Science-and-Machine-Learning-Bootcamp\\\\Machine Learning Sections'"
      ]
     },
     "execution_count": 3,
     "metadata": {},
     "output_type": "execute_result"
    }
   ],
   "source": [
    "pwd"
   ]
  },
  {
   "cell_type": "code",
   "execution_count": 4,
   "metadata": {},
   "outputs": [
    {
     "name": "stdout",
     "output_type": "stream",
     "text": [
      "C:\\Anaconda3\\Price estimation project\n"
     ]
    }
   ],
   "source": [
    "cd C://Anaconda3/Price estimation project/"
   ]
  },
  {
   "cell_type": "code",
   "execution_count": 5,
   "metadata": {},
   "outputs": [],
   "source": [
    "## Manual defining the Training and test data"
   ]
  },
  {
   "cell_type": "code",
   "execution_count": 6,
   "metadata": {},
   "outputs": [],
   "source": [
    "from sklearn.tree import DecisionTreeRegressor "
   ]
  },
  {
   "cell_type": "code",
   "execution_count": 7,
   "metadata": {},
   "outputs": [],
   "source": [
    "Dreg1 = DecisionTreeRegressor() # for 3 month prediction\n",
    "Dreg2 = DecisionTreeRegressor() # for 6 month prediction"
   ]
  },
  {
   "cell_type": "code",
   "execution_count": 8,
   "metadata": {},
   "outputs": [],
   "source": [
    "IOPrice_train = pd.read_csv('Price Prediction train.csv')"
   ]
  },
  {
   "cell_type": "code",
   "execution_count": 9,
   "metadata": {},
   "outputs": [],
   "source": [
    "IOPrice_test = pd.read_csv('Price Prediction test.csv')"
   ]
  },
  {
   "cell_type": "code",
   "execution_count": 10,
   "metadata": {},
   "outputs": [],
   "source": [
    "# 3 month variables\n",
    "X_trn_Dreg1 = IOPrice_train [['BHP Price', 'BHP Volume', 'RIO Price', 'RIO Volume','VALE Price', 'VAL E Volume', 'FMG Price', 'FMG Volume']]\n",
    "X_tst_Dreg1 = IOPrice_test [['BHP Price', 'BHP Volume', 'RIO Price', 'RIO Volume','VALE Price', 'VAL E Volume', 'FMG Price', 'FMG Volume']]\n",
    "Y_trn_Dreg1 = IOPrice_train['3M Iron Ore']\n",
    "Y_tst_Dreg1 = IOPrice_test['3M Iron Ore']\n",
    "# 6 month variable\n",
    "Y_trn_Dreg2 = IOPrice_train['6M Iron Ore']\n",
    "Y_tst_Dreg2 = IOPrice_test['6M Iron Ore']"
   ]
  },
  {
   "cell_type": "code",
   "execution_count": 11,
   "metadata": {},
   "outputs": [
    {
     "data": {
      "text/plain": [
       "DecisionTreeRegressor(criterion='mse', max_depth=None, max_features=None,\n",
       "           max_leaf_nodes=None, min_impurity_decrease=0.0,\n",
       "           min_impurity_split=None, min_samples_leaf=1,\n",
       "           min_samples_split=2, min_weight_fraction_leaf=0.0,\n",
       "           presort=False, random_state=None, splitter='best')"
      ]
     },
     "execution_count": 11,
     "metadata": {},
     "output_type": "execute_result"
    }
   ],
   "source": [
    "# Fit Regression Model\n",
    "Dreg1.fit(X_trn_Dreg1,Y_trn_Dreg1)\n",
    "Dreg2.fit(X_trn_Dreg1,Y_trn_Dreg2)"
   ]
  },
  {
   "cell_type": "code",
   "execution_count": 12,
   "metadata": {},
   "outputs": [],
   "source": [
    "# Predict\n",
    "Prd_3Mon = Dreg1.predict(X_tst_Dreg1)\n",
    "Prd_6Mon = Dreg2.predict(X_tst_Dreg1)"
   ]
  },
  {
   "cell_type": "code",
   "execution_count": 13,
   "metadata": {},
   "outputs": [],
   "source": [
    "# Plot the results"
   ]
  },
  {
   "cell_type": "code",
   "execution_count": 14,
   "metadata": {},
   "outputs": [
    {
     "data": {
      "text/plain": [
       "Text(0,0.5,'Predicted Values')"
      ]
     },
     "execution_count": 14,
     "metadata": {},
     "output_type": "execute_result"
    },
    {
     "data": {
      "image/png": "[encoded data removed]",
      "text/plain": [
       "<Figure size 432x288 with 1 Axes>"
      ]
     },
     "metadata": {},
     "output_type": "display_data"
    }
   ],
   "source": [
    "plt.scatter(Y_tst_Dreg1,Prd_3Mon)\n",
    "plt.plot([0,90],[0,90],'----k')\n",
    "plt.axis('tight')\n",
    "plt.xlabel('Y Test True Values')\n",
    "plt.ylabel('Predicted Values')"
   ]
  },
  {
   "cell_type": "code",
   "execution_count": 15,
   "metadata": {},
   "outputs": [
    {
     "name": "stdout",
     "output_type": "stream",
     "text": [
      "MAE  16.46438596491228\n",
      "MSE 629.916703508772\n",
      "RMSE 25.098141435348793\n"
     ]
    }
   ],
   "source": [
    "# Evaluation of the Algorithum\n",
    "from sklearn import metrics\n",
    "print('MAE ',metrics.mean_absolute_error(Y_tst_Dreg1,Prd_3Mon))\n",
    "print('MSE', metrics.mean_squared_error(Y_tst_Dreg1,Prd_3Mon))\n",
    "print('RMSE',np.sqrt(metrics.mean_squared_error(Y_tst_Dreg1,Prd_3Mon)))"
   ]
  },
  {
   "cell_type": "code",
   "execution_count": null,
   "metadata": {},
   "outputs": [],
   "source": []
  }
 ],
 "metadata": {
  "kernelspec": {
   "display_name": "Python 3",
   "language": "python",
   "name": "python3"
  },
  "language_info": {
   "codemirror_mode": {
    "name": "ipython",
    "version": 3
   },
   "file_extension": ".py",
   "mimetype": "text/x-python",
   "name": "python",
   "nbconvert_exporter": "python",
   "pygments_lexer": "ipython3",
   "version": "3.6.5"
  }
 },
 "nbformat": 4,
 "nbformat_minor": 2
}
